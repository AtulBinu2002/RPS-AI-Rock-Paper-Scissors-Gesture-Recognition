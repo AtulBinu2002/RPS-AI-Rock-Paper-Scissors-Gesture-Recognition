{
 "cells": [
  {
   "cell_type": "code",
   "execution_count": null,
   "metadata": {},
   "outputs": [],
   "source": [
    "import sys"
   ]
  },
  {
   "cell_type": "code",
   "execution_count": null,
   "metadata": {},
   "outputs": [],
   "source": [
    "#All paths\n",
    "main_path=\"D:/Visual/Project/Image_Classification/Hand\"\n",
    "data_path=\"D:/Visual/Project/Image_Classification/Data/Hand_1\"\n",
    "function_path=\"D:/Visual/Project/Image_Classification/Functions\"\n",
    "model_path=\"D:/Visual/Project/Image_Classification/Hand/Models/Model_augm_1.h5\""
   ]
  },
  {
   "cell_type": "code",
   "execution_count": null,
   "metadata": {},
   "outputs": [],
   "source": [
    "sys.path.insert(0,function_path)"
   ]
  },
  {
   "cell_type": "code",
   "execution_count": null,
   "metadata": {},
   "outputs": [],
   "source": [
    "# Create a function to import an image and resize it to be able to be used with our model\n",
    "import tensorflow as tf\n",
    "def load_and_prep_image(filename, img_shape=224):\n",
    "  \"\"\"\n",
    "  Reads an image from filename, turns it into a tensor\n",
    "  and reshapes it to (img_shape, img_shape, colour_channel).\n",
    "  \"\"\"\n",
    "  # Read in target file (an image)\n",
    "  img = tf.io.read_file(filename)\n",
    "\n",
    "  # Decode the read file into a tensor & ensure 3 colour channels \n",
    "  # (our model is trained on images with 3 colour channels and sometimes images have 4 colour channels)\n",
    "  img = tf.image.decode_image(img, channels=3)\n",
    "\n",
    "  # Resize the image (to the same size our model was trained on)\n",
    "  img = tf.image.resize(img, size = [img_shape, img_shape])\n",
    "\n",
    "  # Rescale the image (get all values between 0 and 1)\n",
    "  img = img/255.\n",
    "  return img"
   ]
  },
  {
   "cell_type": "code",
   "execution_count": null,
   "metadata": {},
   "outputs": [],
   "source": [
    "from Json import *\n",
    "d=Access_Json(data_path+\"/Hand.json\")\n",
    "class_name=list(d['Test'])[:-1]\n",
    "print(class_name)"
   ]
  },
  {
   "cell_type": "code",
   "execution_count": null,
   "metadata": {},
   "outputs": [],
   "source": [
    "# Load in and preprocess our custom image\n",
    "from tensorflow.keras.models import load_model\n",
    "import matplotlib.pyplot as  plt\n",
    "model = load_model(model_path)\n",
    "#\"D:/Visual/Project/WIN_20230313_02_16_37_Pro.jpg\"\n",
    "ljg=\"D:/Visual/Project/Image_Classification/Data/Hand_1/test/paper/3JN7OPsnxDBpcVeD.png\"\n",
    "img = load_and_prep_image(\"temp.jpg\")\n",
    "pred = model.predict(tf.expand_dims(img, axis=0))\n",
    "print(class_name)\n",
    "print(pred)\n",
    "print(pred.max()*100)\n",
    "# Match the prediction class to the highest prediction probability\n",
    "pred_class = class_name[pred.argmax()]\n",
    "plt.imshow(img)\n",
    "plt.title(pred_class)\n",
    "plt.axis(False)"
   ]
  },
  {
   "cell_type": "code",
   "execution_count": null,
   "metadata": {},
   "outputs": [],
   "source": [
    "import numpy as np\n",
    "import cv2\n",
    "import tensorflow as tf\n",
    "from tensorflow.keras.models import load_model\n",
    "\n",
    "font = cv2.FONT_HERSHEY_SIMPLEX\n",
    "model = load_model(model_path)\n",
    "\n",
    "cap = cv2.VideoCapture(0)\n",
    "\n",
    "while(True):\n",
    "    ret, frame = cap.read()\n",
    "    cv2.imwrite('temp.jpg', frame)\n",
    "    img=cv2.imread(\"temp.jpg\")        # run inference on “temporary” jpeg file (the frame)\n",
    "\n",
    "    # Resize the image (to the same size our model was trained on)\n",
    "    img=cv2.resize(img,(224, 224))/255\n",
    "    \n",
    "    pred = model.predict(tf.expand_dims(img, axis=0))\n",
    "\n",
    "    print(pred)\n",
    "    \n",
    "    cv2.putText(frame,class_name[pred.argmax()],\n",
    "                (50, 50), \n",
    "                font, 1, \n",
    "                (0, 255, 255), \n",
    "                2, \n",
    "                cv2.LINE_4)\n",
    "    \n",
    "    cv2.imshow(\"frame\",frame)\n",
    "    if cv2.waitKey(1) & 0xFF == ord('q'):\n",
    "        break\n",
    "\n",
    "cap.release()\n",
    "cv2.destroyAllWindows()"
   ]
  },
  {
   "cell_type": "code",
   "execution_count": null,
   "metadata": {},
   "outputs": [],
   "source": [
    "cap.release()\n",
    "cv2.destroyAllWindows()"
   ]
  }
 ],
 "metadata": {
  "kernelspec": {
   "display_name": "Python 3",
   "language": "python",
   "name": "python3"
  },
  "language_info": {
   "codemirror_mode": {
    "name": "ipython",
    "version": 3
   },
   "file_extension": ".py",
   "mimetype": "text/x-python",
   "name": "python",
   "nbconvert_exporter": "python",
   "pygments_lexer": "ipython3",
   "version": "3.10.10"
  },
  "orig_nbformat": 4
 },
 "nbformat": 4,
 "nbformat_minor": 2
}
